{
  "nbformat": 4,
  "nbformat_minor": 0,
  "metadata": {
    "colab": {
      "name": "new.ipynb",
      "provenance": [],
      "collapsed_sections": []
    },
    "kernelspec": {
      "name": "python3",
      "display_name": "Python 3"
    }
  },
  "cells": [
    {
      "cell_type": "markdown",
      "metadata": {
        "id": "Co3INktJTYgP"
      },
      "source": [
        "Notebook"
      ]
    },
    {
      "cell_type": "code",
      "metadata": {
        "id": "_eUF6iEeTX1f"
      },
      "source": [
        "print(\"hallo,world\")"
      ],
      "execution_count": null,
      "outputs": []
    }
  ]
}